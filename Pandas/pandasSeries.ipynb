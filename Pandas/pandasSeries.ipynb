{
 "cells": [
  {
   "cell_type": "code",
   "execution_count": 1,
   "metadata": {},
   "outputs": [
    {
     "name": "stdout",
     "output_type": "stream",
     "text": [
      "Learning Python Packages\n"
     ]
    }
   ],
   "source": [
    "# Pandas Series\n",
    "print(\"Learning Python Packages : Pandas\")"
   ]
  },
  {
   "cell_type": "code",
   "execution_count": 6,
   "metadata": {},
   "outputs": [],
   "source": [
    "from pandas import * #Not a good practice\n",
    "import pandas as pd"
   ]
  },
  {
   "cell_type": "code",
   "execution_count": 16,
   "metadata": {},
   "outputs": [
    {
     "name": "stdout",
     "output_type": "stream",
     "text": [
      "0    12\n",
      "1    -4\n",
      "2     7\n",
      "3     9\n",
      "dtype: int64\n"
     ]
    },
    {
     "data": {
      "text/plain": [
       "pandas.core.series.Series"
      ]
     },
     "execution_count": 16,
     "metadata": {},
     "output_type": "execute_result"
    }
   ],
   "source": [
    "#Series data structure in pandas\n",
    "#creating a Series with default index\n",
    "s = pd.Series([12,-4,7,9])\n",
    "print(s)\n",
    "type(s)"
   ]
  },
  {
   "cell_type": "code",
   "execution_count": 17,
   "metadata": {},
   "outputs": [
    {
     "name": "stdout",
     "output_type": "stream",
     "text": [
      "0    12\n",
      "1    -4\n",
      "2     7\n",
      "3     9\n",
      "dtype: int64\n"
     ]
    }
   ],
   "source": [
    "#giving your own index to the series\n",
    "S = pd.Series([12,-4,7,9], index=['a','b','c','d'])\n",
    "print(s)"
   ]
  },
  {
   "cell_type": "code",
   "execution_count": 27,
   "metadata": {},
   "outputs": [
    {
     "name": "stdout",
     "output_type": "stream",
     "text": [
      "[12 -4  7  9]\n",
      "Index(['a', 'b', 'c', 'd'], dtype='object')\n"
     ]
    },
    {
     "data": {
      "text/plain": [
       "pandas.core.indexes.base.Index"
      ]
     },
     "execution_count": 27,
     "metadata": {},
     "output_type": "execute_result"
    }
   ],
   "source": [
    "#Series values\n",
    "print(S.values)\n",
    "\n",
    "#Series index\n",
    "print(S.index)\n",
    "\n",
    "type(S.index)"
   ]
  },
  {
   "cell_type": "code",
   "execution_count": 40,
   "metadata": {},
   "outputs": [
    {
     "name": "stdout",
     "output_type": "stream",
     "text": [
      "12\n",
      "a    12\n",
      "b     4\n",
      "c     7\n",
      "d     9\n",
      "dtype: int64\n",
      "b    4\n",
      "d    9\n",
      "dtype: int64\n",
      "0    12\n",
      "1    -4\n",
      "dtype: int64\n",
      "a    12\n",
      "b     4\n",
      "c     7\n",
      "d     9\n",
      "dtype: int64\n",
      "printing positive elements of s\n",
      " 0    12\n",
      "2     7\n",
      "3     9\n",
      "dtype: int64\n",
      "printing Series created from numpy array\n",
      " 0    1\n",
      "1    2\n",
      "2    3\n",
      "3    4\n",
      "4    5\n",
      "dtype: int64\n",
      "0    1\n",
      "1    2\n",
      "2    3\n",
      "3    4\n",
      "4    5\n",
      "dtype: int64\n"
     ]
    }
   ],
   "source": [
    "#Playing with the Series object S and s\n",
    "print(S['a'])\n",
    "print(S['a':'d'])\n",
    "print(S[['b', 'd']])\n",
    "\n",
    "print(s[0:2])\n",
    "\n",
    "#assigning values, mutable\n",
    "S['b'] = 4\n",
    "print(S)\n",
    "\n",
    "#filtering values\n",
    "print(\"printing positive elements of s\\n\", s[s>0])\n",
    "\n",
    "#creating series from a numpy array and another series\n",
    "import numpy as np\n",
    "\n",
    "NewS = pd.Series(np.array([1,2,3,4,5]))\n",
    "\n",
    "print(\"printing Series created from numpy array\\n\", NewS)\n",
    "\n",
    "seriesFromSeries = pd.Series(NewS)\n",
    "print(seriesFromSeries)"
   ]
  },
  {
   "cell_type": "code",
   "execution_count": 52,
   "metadata": {},
   "outputs": [
    {
     "name": "stdout",
     "output_type": "stream",
     "text": [
      "Operations and Mathematical Functions\n",
      "diving all the elements of s by 2\n",
      "0    6.0\n",
      "1    2.0\n",
      "2    3.5\n",
      "3    4.5\n",
      "b    2.0\n",
      "dtype: float64\n",
      "\n",
      "The logarithmic values\n",
      "\n"
     ]
    },
    {
     "data": {
      "text/plain": [
       "0    2.484907\n",
       "1    1.386294\n",
       "2    1.945910\n",
       "3    2.197225\n",
       "b    1.386294\n",
       "dtype: float64"
      ]
     },
     "execution_count": 52,
     "metadata": {},
     "output_type": "execute_result"
    }
   ],
   "source": [
    "print(\"Operations and Mathematical Functions\")\n",
    "print(\"diving all the elements of s by 2\")\n",
    "print(s/2)\n",
    "\n",
    "#changing the negative value before applying a log \n",
    "\n",
    "s[1] = 4\n",
    "\n",
    "print(\"\\nThe logarithmic values\\n\")\n",
    "np.log(s)\n"
   ]
  },
  {
   "cell_type": "code",
   "execution_count": 67,
   "metadata": {},
   "outputs": [
    {
     "name": "stdout",
     "output_type": "stream",
     "text": [
      "a    1\n",
      "a    2\n",
      "a    3\n",
      "b    4\n",
      "c    4\n",
      "dtype: int64\n",
      "printing all the elements for index 'a' \n",
      "a    1\n",
      "a    2\n",
      "a    3\n",
      "dtype: int64\n",
      "<bound method Series.unique of a    1\n",
      "a    2\n",
      "a    3\n",
      "b    4\n",
      "c    4\n",
      "dtype: int64>\n",
      "4    2\n",
      "3    1\n",
      "2    1\n",
      "1    1\n",
      "dtype: int64\n"
     ]
    }
   ],
   "source": [
    "new1 = pd.Series([1,2,3,4,4], index = ['a','a','a','b','c'])\n",
    "print(new1)\n",
    "\n",
    "print(\"printing all the elements for index 'a' \")\n",
    "print(new1['a'])\n",
    "\n",
    "#getting unique values \n",
    "print(new1.unique)\n",
    "\n",
    "#we can also get the count for each element\n",
    "print(new1.value_counts())"
   ]
  },
  {
   "cell_type": "code",
   "execution_count": 74,
   "metadata": {},
   "outputs": [
    {
     "name": "stdout",
     "output_type": "stream",
     "text": [
      "white     1\n",
      "white     0\n",
      "blue      2\n",
      "green     1\n",
      "green     2\n",
      "yellow    3\n",
      "dtype: int64\n"
     ]
    },
    {
     "data": {
      "text/plain": [
       "white     0\n",
       "yellow    3\n",
       "dtype: int64"
      ]
     },
     "execution_count": 74,
     "metadata": {},
     "output_type": "execute_result"
    }
   ],
   "source": [
    "serd = pd.Series([1,0,2,1,2,3], index=['white','white','blue','green','green','yellow'])\n",
    "\n",
    "print(serd)\n",
    "\n",
    "serd.isin([0,3])\n",
    "\n",
    "serd[serd.isin([0,3])]"
   ]
  },
  {
   "cell_type": "code",
   "execution_count": 80,
   "metadata": {},
   "outputs": [
    {
     "name": "stderr",
     "output_type": "stream",
     "text": [
      "/Users/sankar.biswas/anaconda3/lib/python3.7/site-packages/ipykernel_launcher.py:3: RuntimeWarning: divide by zero encountered in log\n",
      "  This is separate from the ipykernel package so we can avoid doing imports until\n",
      "/Users/sankar.biswas/anaconda3/lib/python3.7/site-packages/ipykernel_launcher.py:3: RuntimeWarning: invalid value encountered in log\n",
      "  This is separate from the ipykernel package so we can avoid doing imports until\n"
     ]
    },
    {
     "data": {
      "text/plain": [
       "0    1.386294\n",
       "1    1.609438\n",
       "2    1.791759\n",
       "3        -inf\n",
       "4    2.197225\n",
       "5    4.595120\n",
       "6         NaN\n",
       "dtype: float64"
      ]
     },
     "execution_count": 80,
     "metadata": {},
     "output_type": "execute_result"
    }
   ],
   "source": [
    "a = pd.Series([4,5,6,0,9,99,-5])\n",
    "a\n",
    "np.log(a)"
   ]
  },
  {
   "cell_type": "code",
   "execution_count": 82,
   "metadata": {},
   "outputs": [
    {
     "name": "stdout",
     "output_type": "stream",
     "text": [
      "0    False\n",
      "1    False\n",
      "2    False\n",
      "3    False\n",
      "4    False\n",
      "5    False\n",
      "6    False\n",
      "dtype: bool\n",
      "0    True\n",
      "1    True\n",
      "2    True\n",
      "3    True\n",
      "4    True\n",
      "5    True\n",
      "6    True\n",
      "dtype: bool\n"
     ]
    }
   ],
   "source": [
    "#NaN considered as null\n",
    "print(a.isnull())\n",
    "\n",
    "#values which are not NaN\n",
    "print(a.notnull())"
   ]
  },
  {
   "cell_type": "code",
   "execution_count": 84,
   "metadata": {},
   "outputs": [
    {
     "data": {
      "text/plain": [
       "0     4\n",
       "1     5\n",
       "2     6\n",
       "3     0\n",
       "4     9\n",
       "5    99\n",
       "6    -5\n",
       "dtype: int64"
      ]
     },
     "execution_count": 84,
     "metadata": {},
     "output_type": "execute_result"
    }
   ],
   "source": [
    "a[a.notnull()]"
   ]
  },
  {
   "cell_type": "code",
   "execution_count": 86,
   "metadata": {},
   "outputs": [
    {
     "name": "stdout",
     "output_type": "stream",
     "text": [
      "red       5\n",
      "White    10\n",
      "black     9\n",
      "Pink      7\n",
      "dtype: int64\n"
     ]
    }
   ],
   "source": [
    "#Series as dictionaries \n",
    "a = {'red' : 5, 'White' : 10, 'black' : 9, 'Pink' : 7}\n",
    "\n",
    "b = pd.Series(a)\n",
    "print(b)"
   ]
  },
  {
   "cell_type": "code",
   "execution_count": 87,
   "metadata": {},
   "outputs": [
    {
     "data": {
      "text/plain": [
       "A    1\n",
       "C    3\n",
       "D    4\n",
       "dtype: int64"
      ]
     },
     "execution_count": 87,
     "metadata": {},
     "output_type": "execute_result"
    }
   ],
   "source": [
    "m = [1,3,4]\n",
    "n = ['A', 'C', 'D']\n",
    "\n",
    "c = pd.Series(m, index = n)\n",
    "c"
   ]
  },
  {
   "cell_type": "code",
   "execution_count": 89,
   "metadata": {},
   "outputs": [
    {
     "data": {
      "text/plain": [
       "A    5.0\n",
       "C    NaN\n",
       "D    NaN\n",
       "F    NaN\n",
       "dtype: float64"
      ]
     },
     "execution_count": 89,
     "metadata": {},
     "output_type": "execute_result"
    }
   ],
   "source": [
    "a = {'A' : 5, 'White' : 10, 'black' : 9, 'Pink' : 7}\n",
    "n = ['A', 'C', 'D', 'F']\n",
    "\n",
    "c = pd.Series(a, index = n)\n",
    "c\n"
   ]
  },
  {
   "cell_type": "code",
   "execution_count": 90,
   "metadata": {},
   "outputs": [
    {
     "data": {
      "text/plain": [
       "blue       NaN\n",
       "green     20.0\n",
       "red       16.0\n",
       "yellow     NaN\n",
       "dtype: float64"
      ]
     },
     "execution_count": 90,
     "metadata": {},
     "output_type": "execute_result"
    }
   ],
   "source": [
    "#Operatioons betweeen Series \n",
    "\n",
    "a = pd.Series([5,7,9], index = ['red', 'green', 'yellow'])\n",
    "\n",
    "b = pd.Series([11,13,15], index = ['red', 'green', 'blue'])\n",
    "\n",
    "a + b\n"
   ]
  },
  {
   "cell_type": "code",
   "execution_count": null,
   "metadata": {},
   "outputs": [],
   "source": []
  }
 ],
 "metadata": {
  "kernelspec": {
   "display_name": "Python 3",
   "language": "python",
   "name": "python3"
  },
  "language_info": {
   "codemirror_mode": {
    "name": "ipython",
    "version": 3
   },
   "file_extension": ".py",
   "mimetype": "text/x-python",
   "name": "python",
   "nbconvert_exporter": "python",
   "pygments_lexer": "ipython3",
   "version": "3.7.1"
  }
 },
 "nbformat": 4,
 "nbformat_minor": 2
}
